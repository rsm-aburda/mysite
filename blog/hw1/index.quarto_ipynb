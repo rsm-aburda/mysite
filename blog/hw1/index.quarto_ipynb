{
  "cells": [
    {
      "cell_type": "markdown",
      "metadata": {},
      "source": [
        "---\n",
        "title: Homework 1\n",
        "author: Andrew Burda\n",
        "---\n",
        "\n",
        "\n",
        "# Question 1\n",
        "\n",
        "Prof says make a chart. "
      ],
      "id": "d5d804e0"
    },
    {
      "cell_type": "code",
      "metadata": {},
      "source": [
        "x = 4\n",
        "print(x)"
      ],
      "id": "568b0614",
      "execution_count": null,
      "outputs": []
    }
  ],
  "metadata": {
    "kernelspec": {
      "display_name": "Python 3",
      "language": "python",
      "name": "python3"
    }
  },
  "nbformat": 4,
  "nbformat_minor": 5
}